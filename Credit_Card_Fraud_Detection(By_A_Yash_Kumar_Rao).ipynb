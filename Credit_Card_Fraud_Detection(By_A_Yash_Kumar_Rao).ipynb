{
  "nbformat": 4,
  "nbformat_minor": 0,
  "metadata": {
    "colab": {
      "name": "Credit Card Fraud Detection(By - A.Yash Kumar Rao).ipynb",
      "provenance": []
    },
    "kernelspec": {
      "name": "python3",
      "display_name": "Python 3"
    },
    "language_info": {
      "name": "python"
    }
  },
  "cells": [
    {
      "cell_type": "markdown",
      "metadata": {
        "id": "GEF0wDbNBEAj"
      },
      "source": [
        "##**ML Project - Credit Card Fraud Detection**"
      ]
    },
    {
      "cell_type": "code",
      "metadata": {
        "id": "uz88YKcKhAJK"
      },
      "source": [
        "# First, we'll import Pandas, Numpy a data processing and CSV file I/O library\n",
        "import pandas as pd\n",
        "import numpy as np\n",
        "\n",
        "# We'll also import seaborn, a Python graphing library\n",
        "import warnings # current version of seaborn generates a bunch of warnings that we'll ignore\n",
        "warnings.filterwarnings(\"ignore\")\n",
        "import seaborn as sns\n",
        "import matplotlib.pyplot as plt\n",
        "sns.set(style=\"white\", color_codes=True)"
      ],
      "execution_count": 189,
      "outputs": []
    },
    {
      "cell_type": "code",
      "metadata": {
        "colab": {
          "base_uri": "https://localhost:8080/",
          "height": 224
        },
        "id": "xYTf2kgGlpgV",
        "outputId": "0035cdd3-f78d-451d-b21e-eae5c186fa0c"
      },
      "source": [
        "# Next, we'll load the dataset, which is in the \"../input/\" directory\n",
        "df = pd.read_csv('/content/creditcard.csv') # the dataset is now a Pandas DataFrame\n",
        "\n",
        "# Let's see what's in the data - Jupyter notebooks print the result of the last thing you do\n",
        "df.head()"
      ],
      "execution_count": 190,
      "outputs": [
        {
          "output_type": "execute_result",
          "data": {
            "text/html": [
              "<div>\n",
              "<style scoped>\n",
              "    .dataframe tbody tr th:only-of-type {\n",
              "        vertical-align: middle;\n",
              "    }\n",
              "\n",
              "    .dataframe tbody tr th {\n",
              "        vertical-align: top;\n",
              "    }\n",
              "\n",
              "    .dataframe thead th {\n",
              "        text-align: right;\n",
              "    }\n",
              "</style>\n",
              "<table border=\"1\" class=\"dataframe\">\n",
              "  <thead>\n",
              "    <tr style=\"text-align: right;\">\n",
              "      <th></th>\n",
              "      <th>Time</th>\n",
              "      <th>V1</th>\n",
              "      <th>V2</th>\n",
              "      <th>V3</th>\n",
              "      <th>V4</th>\n",
              "      <th>V5</th>\n",
              "      <th>V6</th>\n",
              "      <th>V7</th>\n",
              "      <th>V8</th>\n",
              "      <th>V9</th>\n",
              "      <th>V10</th>\n",
              "      <th>V11</th>\n",
              "      <th>V12</th>\n",
              "      <th>V13</th>\n",
              "      <th>V14</th>\n",
              "      <th>V15</th>\n",
              "      <th>V16</th>\n",
              "      <th>V17</th>\n",
              "      <th>V18</th>\n",
              "      <th>V19</th>\n",
              "      <th>V20</th>\n",
              "      <th>V21</th>\n",
              "      <th>V22</th>\n",
              "      <th>V23</th>\n",
              "      <th>V24</th>\n",
              "      <th>V25</th>\n",
              "      <th>V26</th>\n",
              "      <th>V27</th>\n",
              "      <th>V28</th>\n",
              "      <th>Amount</th>\n",
              "      <th>Class</th>\n",
              "    </tr>\n",
              "  </thead>\n",
              "  <tbody>\n",
              "    <tr>\n",
              "      <th>0</th>\n",
              "      <td>0.0</td>\n",
              "      <td>-1.359807</td>\n",
              "      <td>-0.072781</td>\n",
              "      <td>2.536347</td>\n",
              "      <td>1.378155</td>\n",
              "      <td>-0.338321</td>\n",
              "      <td>0.462388</td>\n",
              "      <td>0.239599</td>\n",
              "      <td>0.098698</td>\n",
              "      <td>0.363787</td>\n",
              "      <td>0.090794</td>\n",
              "      <td>-0.551600</td>\n",
              "      <td>-0.617801</td>\n",
              "      <td>-0.991390</td>\n",
              "      <td>-0.311169</td>\n",
              "      <td>1.468177</td>\n",
              "      <td>-0.470401</td>\n",
              "      <td>0.207971</td>\n",
              "      <td>0.025791</td>\n",
              "      <td>0.403993</td>\n",
              "      <td>0.251412</td>\n",
              "      <td>-0.018307</td>\n",
              "      <td>0.277838</td>\n",
              "      <td>-0.110474</td>\n",
              "      <td>0.066928</td>\n",
              "      <td>0.128539</td>\n",
              "      <td>-0.189115</td>\n",
              "      <td>0.133558</td>\n",
              "      <td>-0.021053</td>\n",
              "      <td>149.62</td>\n",
              "      <td>0</td>\n",
              "    </tr>\n",
              "    <tr>\n",
              "      <th>1</th>\n",
              "      <td>0.0</td>\n",
              "      <td>1.191857</td>\n",
              "      <td>0.266151</td>\n",
              "      <td>0.166480</td>\n",
              "      <td>0.448154</td>\n",
              "      <td>0.060018</td>\n",
              "      <td>-0.082361</td>\n",
              "      <td>-0.078803</td>\n",
              "      <td>0.085102</td>\n",
              "      <td>-0.255425</td>\n",
              "      <td>-0.166974</td>\n",
              "      <td>1.612727</td>\n",
              "      <td>1.065235</td>\n",
              "      <td>0.489095</td>\n",
              "      <td>-0.143772</td>\n",
              "      <td>0.635558</td>\n",
              "      <td>0.463917</td>\n",
              "      <td>-0.114805</td>\n",
              "      <td>-0.183361</td>\n",
              "      <td>-0.145783</td>\n",
              "      <td>-0.069083</td>\n",
              "      <td>-0.225775</td>\n",
              "      <td>-0.638672</td>\n",
              "      <td>0.101288</td>\n",
              "      <td>-0.339846</td>\n",
              "      <td>0.167170</td>\n",
              "      <td>0.125895</td>\n",
              "      <td>-0.008983</td>\n",
              "      <td>0.014724</td>\n",
              "      <td>2.69</td>\n",
              "      <td>0</td>\n",
              "    </tr>\n",
              "    <tr>\n",
              "      <th>2</th>\n",
              "      <td>1.0</td>\n",
              "      <td>-1.358354</td>\n",
              "      <td>-1.340163</td>\n",
              "      <td>1.773209</td>\n",
              "      <td>0.379780</td>\n",
              "      <td>-0.503198</td>\n",
              "      <td>1.800499</td>\n",
              "      <td>0.791461</td>\n",
              "      <td>0.247676</td>\n",
              "      <td>-1.514654</td>\n",
              "      <td>0.207643</td>\n",
              "      <td>0.624501</td>\n",
              "      <td>0.066084</td>\n",
              "      <td>0.717293</td>\n",
              "      <td>-0.165946</td>\n",
              "      <td>2.345865</td>\n",
              "      <td>-2.890083</td>\n",
              "      <td>1.109969</td>\n",
              "      <td>-0.121359</td>\n",
              "      <td>-2.261857</td>\n",
              "      <td>0.524980</td>\n",
              "      <td>0.247998</td>\n",
              "      <td>0.771679</td>\n",
              "      <td>0.909412</td>\n",
              "      <td>-0.689281</td>\n",
              "      <td>-0.327642</td>\n",
              "      <td>-0.139097</td>\n",
              "      <td>-0.055353</td>\n",
              "      <td>-0.059752</td>\n",
              "      <td>378.66</td>\n",
              "      <td>0</td>\n",
              "    </tr>\n",
              "    <tr>\n",
              "      <th>3</th>\n",
              "      <td>1.0</td>\n",
              "      <td>-0.966272</td>\n",
              "      <td>-0.185226</td>\n",
              "      <td>1.792993</td>\n",
              "      <td>-0.863291</td>\n",
              "      <td>-0.010309</td>\n",
              "      <td>1.247203</td>\n",
              "      <td>0.237609</td>\n",
              "      <td>0.377436</td>\n",
              "      <td>-1.387024</td>\n",
              "      <td>-0.054952</td>\n",
              "      <td>-0.226487</td>\n",
              "      <td>0.178228</td>\n",
              "      <td>0.507757</td>\n",
              "      <td>-0.287924</td>\n",
              "      <td>-0.631418</td>\n",
              "      <td>-1.059647</td>\n",
              "      <td>-0.684093</td>\n",
              "      <td>1.965775</td>\n",
              "      <td>-1.232622</td>\n",
              "      <td>-0.208038</td>\n",
              "      <td>-0.108300</td>\n",
              "      <td>0.005274</td>\n",
              "      <td>-0.190321</td>\n",
              "      <td>-1.175575</td>\n",
              "      <td>0.647376</td>\n",
              "      <td>-0.221929</td>\n",
              "      <td>0.062723</td>\n",
              "      <td>0.061458</td>\n",
              "      <td>123.50</td>\n",
              "      <td>0</td>\n",
              "    </tr>\n",
              "    <tr>\n",
              "      <th>4</th>\n",
              "      <td>2.0</td>\n",
              "      <td>-1.158233</td>\n",
              "      <td>0.877737</td>\n",
              "      <td>1.548718</td>\n",
              "      <td>0.403034</td>\n",
              "      <td>-0.407193</td>\n",
              "      <td>0.095921</td>\n",
              "      <td>0.592941</td>\n",
              "      <td>-0.270533</td>\n",
              "      <td>0.817739</td>\n",
              "      <td>0.753074</td>\n",
              "      <td>-0.822843</td>\n",
              "      <td>0.538196</td>\n",
              "      <td>1.345852</td>\n",
              "      <td>-1.119670</td>\n",
              "      <td>0.175121</td>\n",
              "      <td>-0.451449</td>\n",
              "      <td>-0.237033</td>\n",
              "      <td>-0.038195</td>\n",
              "      <td>0.803487</td>\n",
              "      <td>0.408542</td>\n",
              "      <td>-0.009431</td>\n",
              "      <td>0.798278</td>\n",
              "      <td>-0.137458</td>\n",
              "      <td>0.141267</td>\n",
              "      <td>-0.206010</td>\n",
              "      <td>0.502292</td>\n",
              "      <td>0.219422</td>\n",
              "      <td>0.215153</td>\n",
              "      <td>69.99</td>\n",
              "      <td>0</td>\n",
              "    </tr>\n",
              "  </tbody>\n",
              "</table>\n",
              "</div>"
            ],
            "text/plain": [
              "   Time        V1        V2        V3  ...       V27       V28  Amount  Class\n",
              "0   0.0 -1.359807 -0.072781  2.536347  ...  0.133558 -0.021053  149.62      0\n",
              "1   0.0  1.191857  0.266151  0.166480  ... -0.008983  0.014724    2.69      0\n",
              "2   1.0 -1.358354 -1.340163  1.773209  ... -0.055353 -0.059752  378.66      0\n",
              "3   1.0 -0.966272 -0.185226  1.792993  ...  0.062723  0.061458  123.50      0\n",
              "4   2.0 -1.158233  0.877737  1.548718  ...  0.219422  0.215153   69.99      0\n",
              "\n",
              "[5 rows x 31 columns]"
            ]
          },
          "metadata": {
            "tags": []
          },
          "execution_count": 190
        }
      ]
    },
    {
      "cell_type": "code",
      "metadata": {
        "colab": {
          "base_uri": "https://localhost:8080/",
          "height": 224
        },
        "id": "eJt1U9lAlxJe",
        "outputId": "430326e0-f936-4561-e40e-696f35781f2c"
      },
      "source": [
        "credit_card_data.tail()"
      ],
      "execution_count": 191,
      "outputs": [
        {
          "output_type": "execute_result",
          "data": {
            "text/html": [
              "<div>\n",
              "<style scoped>\n",
              "    .dataframe tbody tr th:only-of-type {\n",
              "        vertical-align: middle;\n",
              "    }\n",
              "\n",
              "    .dataframe tbody tr th {\n",
              "        vertical-align: top;\n",
              "    }\n",
              "\n",
              "    .dataframe thead th {\n",
              "        text-align: right;\n",
              "    }\n",
              "</style>\n",
              "<table border=\"1\" class=\"dataframe\">\n",
              "  <thead>\n",
              "    <tr style=\"text-align: right;\">\n",
              "      <th></th>\n",
              "      <th>Time</th>\n",
              "      <th>V1</th>\n",
              "      <th>V2</th>\n",
              "      <th>V3</th>\n",
              "      <th>V4</th>\n",
              "      <th>V5</th>\n",
              "      <th>V6</th>\n",
              "      <th>V7</th>\n",
              "      <th>V8</th>\n",
              "      <th>V9</th>\n",
              "      <th>V10</th>\n",
              "      <th>V11</th>\n",
              "      <th>V12</th>\n",
              "      <th>V13</th>\n",
              "      <th>V14</th>\n",
              "      <th>V15</th>\n",
              "      <th>V16</th>\n",
              "      <th>V17</th>\n",
              "      <th>V18</th>\n",
              "      <th>V19</th>\n",
              "      <th>V20</th>\n",
              "      <th>V21</th>\n",
              "      <th>V22</th>\n",
              "      <th>V23</th>\n",
              "      <th>V24</th>\n",
              "      <th>V25</th>\n",
              "      <th>V26</th>\n",
              "      <th>V27</th>\n",
              "      <th>V28</th>\n",
              "      <th>Amount</th>\n",
              "      <th>Class</th>\n",
              "    </tr>\n",
              "  </thead>\n",
              "  <tbody>\n",
              "    <tr>\n",
              "      <th>279186</th>\n",
              "      <td>168697.0</td>\n",
              "      <td>-1.448540</td>\n",
              "      <td>-0.106524</td>\n",
              "      <td>1.590888</td>\n",
              "      <td>0.787416</td>\n",
              "      <td>0.843798</td>\n",
              "      <td>0.719463</td>\n",
              "      <td>0.358887</td>\n",
              "      <td>0.409272</td>\n",
              "      <td>-0.557388</td>\n",
              "      <td>-0.237061</td>\n",
              "      <td>0.424899</td>\n",
              "      <td>0.512476</td>\n",
              "      <td>0.250934</td>\n",
              "      <td>0.135446</td>\n",
              "      <td>0.258259</td>\n",
              "      <td>0.154100</td>\n",
              "      <td>-0.618690</td>\n",
              "      <td>0.720465</td>\n",
              "      <td>1.060753</td>\n",
              "      <td>0.767129</td>\n",
              "      <td>-0.082357</td>\n",
              "      <td>-0.622610</td>\n",
              "      <td>0.248731</td>\n",
              "      <td>0.137849</td>\n",
              "      <td>0.462997</td>\n",
              "      <td>-0.684516</td>\n",
              "      <td>0.271892</td>\n",
              "      <td>0.166265</td>\n",
              "      <td>157.00</td>\n",
              "      <td>0.0</td>\n",
              "    </tr>\n",
              "    <tr>\n",
              "      <th>279187</th>\n",
              "      <td>168698.0</td>\n",
              "      <td>-1.698935</td>\n",
              "      <td>1.318773</td>\n",
              "      <td>-0.532258</td>\n",
              "      <td>0.115716</td>\n",
              "      <td>-2.031122</td>\n",
              "      <td>-0.712686</td>\n",
              "      <td>-1.078152</td>\n",
              "      <td>1.537223</td>\n",
              "      <td>0.065154</td>\n",
              "      <td>-1.085665</td>\n",
              "      <td>-1.350958</td>\n",
              "      <td>0.670474</td>\n",
              "      <td>0.047616</td>\n",
              "      <td>0.922667</td>\n",
              "      <td>0.030475</td>\n",
              "      <td>0.426921</td>\n",
              "      <td>0.442459</td>\n",
              "      <td>0.128094</td>\n",
              "      <td>-0.241123</td>\n",
              "      <td>-0.706093</td>\n",
              "      <td>0.524217</td>\n",
              "      <td>1.101406</td>\n",
              "      <td>0.115851</td>\n",
              "      <td>0.473729</td>\n",
              "      <td>-0.908005</td>\n",
              "      <td>0.506611</td>\n",
              "      <td>-0.695470</td>\n",
              "      <td>-0.224998</td>\n",
              "      <td>74.90</td>\n",
              "      <td>0.0</td>\n",
              "    </tr>\n",
              "    <tr>\n",
              "      <th>279188</th>\n",
              "      <td>168698.0</td>\n",
              "      <td>-1.698935</td>\n",
              "      <td>1.318773</td>\n",
              "      <td>-0.532258</td>\n",
              "      <td>0.115716</td>\n",
              "      <td>-2.031122</td>\n",
              "      <td>-0.712686</td>\n",
              "      <td>-1.078152</td>\n",
              "      <td>1.537223</td>\n",
              "      <td>0.065154</td>\n",
              "      <td>-1.085665</td>\n",
              "      <td>-1.350958</td>\n",
              "      <td>0.670474</td>\n",
              "      <td>0.047616</td>\n",
              "      <td>0.922667</td>\n",
              "      <td>0.030475</td>\n",
              "      <td>0.426921</td>\n",
              "      <td>0.442459</td>\n",
              "      <td>0.128094</td>\n",
              "      <td>-0.241123</td>\n",
              "      <td>-0.706093</td>\n",
              "      <td>0.524217</td>\n",
              "      <td>1.101406</td>\n",
              "      <td>0.115851</td>\n",
              "      <td>0.473729</td>\n",
              "      <td>-0.908005</td>\n",
              "      <td>0.506611</td>\n",
              "      <td>-0.695470</td>\n",
              "      <td>-0.224998</td>\n",
              "      <td>74.90</td>\n",
              "      <td>0.0</td>\n",
              "    </tr>\n",
              "    <tr>\n",
              "      <th>279189</th>\n",
              "      <td>168698.0</td>\n",
              "      <td>-1.752086</td>\n",
              "      <td>1.235061</td>\n",
              "      <td>-0.495090</td>\n",
              "      <td>0.136284</td>\n",
              "      <td>-1.842112</td>\n",
              "      <td>-0.841210</td>\n",
              "      <td>-1.254498</td>\n",
              "      <td>1.572910</td>\n",
              "      <td>0.075590</td>\n",
              "      <td>-1.064181</td>\n",
              "      <td>-1.357656</td>\n",
              "      <td>0.688060</td>\n",
              "      <td>0.046872</td>\n",
              "      <td>0.935071</td>\n",
              "      <td>0.028346</td>\n",
              "      <td>0.412006</td>\n",
              "      <td>0.451100</td>\n",
              "      <td>0.131452</td>\n",
              "      <td>-0.244710</td>\n",
              "      <td>-0.637330</td>\n",
              "      <td>0.549229</td>\n",
              "      <td>1.086182</td>\n",
              "      <td>0.100710</td>\n",
              "      <td>0.471034</td>\n",
              "      <td>-0.914791</td>\n",
              "      <td>0.501103</td>\n",
              "      <td>-0.744175</td>\n",
              "      <td>-0.204416</td>\n",
              "      <td>32.48</td>\n",
              "      <td>0.0</td>\n",
              "    </tr>\n",
              "    <tr>\n",
              "      <th>279190</th>\n",
              "      <td>168698.0</td>\n",
              "      <td>-1.752086</td>\n",
              "      <td>1.235061</td>\n",
              "      <td>-0.495090</td>\n",
              "      <td>0.136284</td>\n",
              "      <td>-1.842112</td>\n",
              "      <td>NaN</td>\n",
              "      <td>NaN</td>\n",
              "      <td>NaN</td>\n",
              "      <td>NaN</td>\n",
              "      <td>NaN</td>\n",
              "      <td>NaN</td>\n",
              "      <td>NaN</td>\n",
              "      <td>NaN</td>\n",
              "      <td>NaN</td>\n",
              "      <td>NaN</td>\n",
              "      <td>NaN</td>\n",
              "      <td>NaN</td>\n",
              "      <td>NaN</td>\n",
              "      <td>NaN</td>\n",
              "      <td>NaN</td>\n",
              "      <td>NaN</td>\n",
              "      <td>NaN</td>\n",
              "      <td>NaN</td>\n",
              "      <td>NaN</td>\n",
              "      <td>NaN</td>\n",
              "      <td>NaN</td>\n",
              "      <td>NaN</td>\n",
              "      <td>NaN</td>\n",
              "      <td>NaN</td>\n",
              "      <td>NaN</td>\n",
              "    </tr>\n",
              "  </tbody>\n",
              "</table>\n",
              "</div>"
            ],
            "text/plain": [
              "            Time        V1        V2  ...       V28  Amount  Class\n",
              "279186  168697.0 -1.448540 -0.106524  ...  0.166265  157.00    0.0\n",
              "279187  168698.0 -1.698935  1.318773  ... -0.224998   74.90    0.0\n",
              "279188  168698.0 -1.698935  1.318773  ... -0.224998   74.90    0.0\n",
              "279189  168698.0 -1.752086  1.235061  ... -0.204416   32.48    0.0\n",
              "279190  168698.0 -1.752086  1.235061  ...       NaN     NaN    NaN\n",
              "\n",
              "[5 rows x 31 columns]"
            ]
          },
          "metadata": {
            "tags": []
          },
          "execution_count": 191
        }
      ]
    },
    {
      "cell_type": "markdown",
      "metadata": {
        "id": "Dgz8IDkOMxZR"
      },
      "source": [
        "## Perform data cleanup as required"
      ]
    },
    {
      "cell_type": "code",
      "metadata": {
        "colab": {
          "base_uri": "https://localhost:8080/"
        },
        "id": "x8uNTgSH1T0d",
        "outputId": "53826b7f-447b-4d5e-abbf-232a733da06f"
      },
      "source": [
        "credit_card_data.shape"
      ],
      "execution_count": 192,
      "outputs": [
        {
          "output_type": "execute_result",
          "data": {
            "text/plain": [
              "(279191, 31)"
            ]
          },
          "metadata": {
            "tags": []
          },
          "execution_count": 192
        }
      ]
    },
    {
      "cell_type": "code",
      "metadata": {
        "colab": {
          "base_uri": "https://localhost:8080/"
        },
        "id": "IJGlYaRA1M3L",
        "outputId": "1247b43b-3ee5-4c92-af8a-7a5199afd80c"
      },
      "source": [
        "credit_card_data.info()"
      ],
      "execution_count": 193,
      "outputs": [
        {
          "output_type": "stream",
          "text": [
            "<class 'pandas.core.frame.DataFrame'>\n",
            "RangeIndex: 279191 entries, 0 to 279190\n",
            "Data columns (total 31 columns):\n",
            " #   Column  Non-Null Count   Dtype  \n",
            "---  ------  --------------   -----  \n",
            " 0   Time    279191 non-null  float64\n",
            " 1   V1      279191 non-null  float64\n",
            " 2   V2      279191 non-null  float64\n",
            " 3   V3      279191 non-null  float64\n",
            " 4   V4      279191 non-null  float64\n",
            " 5   V5      279191 non-null  float64\n",
            " 6   V6      279190 non-null  float64\n",
            " 7   V7      279190 non-null  float64\n",
            " 8   V8      279190 non-null  float64\n",
            " 9   V9      279190 non-null  float64\n",
            " 10  V10     279190 non-null  float64\n",
            " 11  V11     279190 non-null  float64\n",
            " 12  V12     279190 non-null  float64\n",
            " 13  V13     279190 non-null  float64\n",
            " 14  V14     279190 non-null  float64\n",
            " 15  V15     279190 non-null  float64\n",
            " 16  V16     279190 non-null  float64\n",
            " 17  V17     279190 non-null  float64\n",
            " 18  V18     279190 non-null  float64\n",
            " 19  V19     279190 non-null  float64\n",
            " 20  V20     279190 non-null  float64\n",
            " 21  V21     279190 non-null  float64\n",
            " 22  V22     279190 non-null  float64\n",
            " 23  V23     279190 non-null  float64\n",
            " 24  V24     279190 non-null  float64\n",
            " 25  V25     279190 non-null  float64\n",
            " 26  V26     279190 non-null  float64\n",
            " 27  V27     279190 non-null  float64\n",
            " 28  V28     279190 non-null  float64\n",
            " 29  Amount  279190 non-null  float64\n",
            " 30  Class   279190 non-null  float64\n",
            "dtypes: float64(31)\n",
            "memory usage: 66.0 MB\n"
          ],
          "name": "stdout"
        }
      ]
    },
    {
      "cell_type": "code",
      "metadata": {
        "colab": {
          "base_uri": "https://localhost:8080/"
        },
        "id": "plVuPSeO1k6G",
        "outputId": "7aa281d0-0828-42ee-e686-592490518b3d"
      },
      "source": [
        "# distribution of legit transactions & fraudulent transactions\n",
        "credit_card_data['Class'].value_counts()"
      ],
      "execution_count": 194,
      "outputs": [
        {
          "output_type": "execute_result",
          "data": {
            "text/plain": [
              "0.0    278703\n",
              "1.0       487\n",
              "Name: Class, dtype: int64"
            ]
          },
          "metadata": {
            "tags": []
          },
          "execution_count": 194
        }
      ]
    },
    {
      "cell_type": "markdown",
      "metadata": {
        "id": "qf1ssp_P3Ccw"
      },
      "source": [
        "This Dataset is highly unblanced\n",
        "\n",
        "0 --> Normal Transaction\n",
        "\n",
        "1 --> fraudulent transaction"
      ]
    },
    {
      "cell_type": "code",
      "metadata": {
        "id": "8wMDxUoC20TE"
      },
      "source": [
        "# separating the data for analysis\n",
        "legit = credit_card_data[credit_card_data.Class == 0]\n",
        "fraud = credit_card_data[credit_card_data.Class == 1]"
      ],
      "execution_count": 195,
      "outputs": []
    },
    {
      "cell_type": "code",
      "metadata": {
        "colab": {
          "base_uri": "https://localhost:8080/"
        },
        "id": "mZUH1pBv3Tjb",
        "outputId": "39a5ccc9-8214-48c7-b39c-dfedfb17da46"
      },
      "source": [
        "print(legit.shape)\n",
        "print(fraud.shape)"
      ],
      "execution_count": 196,
      "outputs": [
        {
          "output_type": "stream",
          "text": [
            "(278703, 31)\n",
            "(487, 31)\n"
          ],
          "name": "stdout"
        }
      ]
    },
    {
      "cell_type": "code",
      "metadata": {
        "colab": {
          "base_uri": "https://localhost:8080/"
        },
        "id": "MFNeIFX13WVt",
        "outputId": "633c7eb2-57b3-4d1f-de53-9dc52a08307c"
      },
      "source": [
        "# statistical measures of the data\n",
        "legit.Amount.describe()"
      ],
      "execution_count": 197,
      "outputs": [
        {
          "output_type": "execute_result",
          "data": {
            "text/plain": [
              "count    278703.000000\n",
              "mean         88.676558\n",
              "std         250.460854\n",
              "min           0.000000\n",
              "25%           5.760000\n",
              "50%          22.190000\n",
              "75%          77.850000\n",
              "max       25691.160000\n",
              "Name: Amount, dtype: float64"
            ]
          },
          "metadata": {
            "tags": []
          },
          "execution_count": 197
        }
      ]
    },
    {
      "cell_type": "code",
      "metadata": {
        "colab": {
          "base_uri": "https://localhost:8080/"
        },
        "id": "qnF2MjEt4kDz",
        "outputId": "fa520df0-b647-4d13-e764-546d7fc56019"
      },
      "source": [
        "fraud.Amount.describe()"
      ],
      "execution_count": 198,
      "outputs": [
        {
          "output_type": "execute_result",
          "data": {
            "text/plain": [
              "count     487.000000\n",
              "mean      121.913326\n",
              "std       257.561705\n",
              "min         0.000000\n",
              "25%         1.000000\n",
              "50%         9.130000\n",
              "75%       105.350000\n",
              "max      2125.870000\n",
              "Name: Amount, dtype: float64"
            ]
          },
          "metadata": {
            "tags": []
          },
          "execution_count": 198
        }
      ]
    },
    {
      "cell_type": "code",
      "metadata": {
        "colab": {
          "base_uri": "https://localhost:8080/",
          "height": 162
        },
        "id": "iTCDl-vG4o_c",
        "outputId": "b6bf1699-a16e-4b43-b880-2572b96ad634"
      },
      "source": [
        "# compare the values for both transactions\n",
        "credit_card_data.groupby('Class').mean()"
      ],
      "execution_count": 199,
      "outputs": [
        {
          "output_type": "execute_result",
          "data": {
            "text/html": [
              "<div>\n",
              "<style scoped>\n",
              "    .dataframe tbody tr th:only-of-type {\n",
              "        vertical-align: middle;\n",
              "    }\n",
              "\n",
              "    .dataframe tbody tr th {\n",
              "        vertical-align: top;\n",
              "    }\n",
              "\n",
              "    .dataframe thead th {\n",
              "        text-align: right;\n",
              "    }\n",
              "</style>\n",
              "<table border=\"1\" class=\"dataframe\">\n",
              "  <thead>\n",
              "    <tr style=\"text-align: right;\">\n",
              "      <th></th>\n",
              "      <th>Time</th>\n",
              "      <th>V1</th>\n",
              "      <th>V2</th>\n",
              "      <th>V3</th>\n",
              "      <th>V4</th>\n",
              "      <th>V5</th>\n",
              "      <th>V6</th>\n",
              "      <th>V7</th>\n",
              "      <th>V8</th>\n",
              "      <th>V9</th>\n",
              "      <th>V10</th>\n",
              "      <th>V11</th>\n",
              "      <th>V12</th>\n",
              "      <th>V13</th>\n",
              "      <th>V14</th>\n",
              "      <th>V15</th>\n",
              "      <th>V16</th>\n",
              "      <th>V17</th>\n",
              "      <th>V18</th>\n",
              "      <th>V19</th>\n",
              "      <th>V20</th>\n",
              "      <th>V21</th>\n",
              "      <th>V22</th>\n",
              "      <th>V23</th>\n",
              "      <th>V24</th>\n",
              "      <th>V25</th>\n",
              "      <th>V26</th>\n",
              "      <th>V27</th>\n",
              "      <th>V28</th>\n",
              "      <th>Amount</th>\n",
              "    </tr>\n",
              "    <tr>\n",
              "      <th>Class</th>\n",
              "      <th></th>\n",
              "      <th></th>\n",
              "      <th></th>\n",
              "      <th></th>\n",
              "      <th></th>\n",
              "      <th></th>\n",
              "      <th></th>\n",
              "      <th></th>\n",
              "      <th></th>\n",
              "      <th></th>\n",
              "      <th></th>\n",
              "      <th></th>\n",
              "      <th></th>\n",
              "      <th></th>\n",
              "      <th></th>\n",
              "      <th></th>\n",
              "      <th></th>\n",
              "      <th></th>\n",
              "      <th></th>\n",
              "      <th></th>\n",
              "      <th></th>\n",
              "      <th></th>\n",
              "      <th></th>\n",
              "      <th></th>\n",
              "      <th></th>\n",
              "      <th></th>\n",
              "      <th></th>\n",
              "      <th></th>\n",
              "      <th></th>\n",
              "      <th></th>\n",
              "    </tr>\n",
              "  </thead>\n",
              "  <tbody>\n",
              "    <tr>\n",
              "      <th>0.0</th>\n",
              "      <td>93312.148890</td>\n",
              "      <td>0.007147</td>\n",
              "      <td>-0.013057</td>\n",
              "      <td>0.028317</td>\n",
              "      <td>-0.005329</td>\n",
              "      <td>-0.000463</td>\n",
              "      <td>0.005110</td>\n",
              "      <td>0.007360</td>\n",
              "      <td>-0.001612</td>\n",
              "      <td>0.004745</td>\n",
              "      <td>0.010765</td>\n",
              "      <td>0.000264</td>\n",
              "      <td>0.005956</td>\n",
              "      <td>0.000720</td>\n",
              "      <td>0.013838</td>\n",
              "      <td>0.004085</td>\n",
              "      <td>0.006892</td>\n",
              "      <td>0.012391</td>\n",
              "      <td>0.001862</td>\n",
              "      <td>-0.001105</td>\n",
              "      <td>-0.000309</td>\n",
              "      <td>-0.001446</td>\n",
              "      <td>-0.001745</td>\n",
              "      <td>-0.000874</td>\n",
              "      <td>-0.000160</td>\n",
              "      <td>0.002740</td>\n",
              "      <td>-0.000045</td>\n",
              "      <td>-0.000292</td>\n",
              "      <td>-0.000088</td>\n",
              "      <td>88.676558</td>\n",
              "    </tr>\n",
              "    <tr>\n",
              "      <th>1.0</th>\n",
              "      <td>79834.240246</td>\n",
              "      <td>-4.816122</td>\n",
              "      <td>3.652183</td>\n",
              "      <td>-7.065000</td>\n",
              "      <td>4.576639</td>\n",
              "      <td>-3.179607</td>\n",
              "      <td>-1.398985</td>\n",
              "      <td>-5.612526</td>\n",
              "      <td>0.570034</td>\n",
              "      <td>-2.597563</td>\n",
              "      <td>-5.697347</td>\n",
              "      <td>3.820310</td>\n",
              "      <td>-6.291644</td>\n",
              "      <td>-0.103899</td>\n",
              "      <td>-6.993408</td>\n",
              "      <td>-0.090565</td>\n",
              "      <td>-4.164614</td>\n",
              "      <td>-6.700220</td>\n",
              "      <td>-2.263639</td>\n",
              "      <td>0.683637</td>\n",
              "      <td>0.372003</td>\n",
              "      <td>0.716151</td>\n",
              "      <td>0.014237</td>\n",
              "      <td>-0.041043</td>\n",
              "      <td>-0.104202</td>\n",
              "      <td>0.041249</td>\n",
              "      <td>0.047424</td>\n",
              "      <td>0.168312</td>\n",
              "      <td>0.075910</td>\n",
              "      <td>121.913326</td>\n",
              "    </tr>\n",
              "  </tbody>\n",
              "</table>\n",
              "</div>"
            ],
            "text/plain": [
              "               Time        V1        V2  ...       V27       V28      Amount\n",
              "Class                                    ...                                \n",
              "0.0    93312.148890  0.007147 -0.013057  ... -0.000292 -0.000088   88.676558\n",
              "1.0    79834.240246 -4.816122  3.652183  ...  0.168312  0.075910  121.913326\n",
              "\n",
              "[2 rows x 30 columns]"
            ]
          },
          "metadata": {
            "tags": []
          },
          "execution_count": 199
        }
      ]
    },
    {
      "cell_type": "markdown",
      "metadata": {
        "id": "U-NV1IZ15D6R"
      },
      "source": [
        "Under-Sampling\n",
        "\n",
        "Build a sample dataset containing similar distribution of normal transactions and Fraudulent Transactions\n",
        "\n",
        "Number of Fraudulent Transactions --> 487"
      ]
    },
    {
      "cell_type": "code",
      "metadata": {
        "id": "AVvZ0UFs4vL0"
      },
      "source": [
        "legit_sample = legit.sample(n=487)"
      ],
      "execution_count": 200,
      "outputs": []
    },
    {
      "cell_type": "markdown",
      "metadata": {
        "id": "GuhGTTf35sft"
      },
      "source": [
        "Concatenating two DataFrames"
      ]
    },
    {
      "cell_type": "code",
      "metadata": {
        "id": "XnZxZnxX5qBb"
      },
      "source": [
        "new_dataset = pd.concat([legit_sample, fraud], axis=0)"
      ],
      "execution_count": 201,
      "outputs": []
    },
    {
      "cell_type": "code",
      "metadata": {
        "colab": {
          "base_uri": "https://localhost:8080/",
          "height": 224
        },
        "id": "i-fVjomu5tGM",
        "outputId": "99723229-df74-43a9-a950-55a0e3e5d467"
      },
      "source": [
        "new_dataset.head()"
      ],
      "execution_count": 202,
      "outputs": [
        {
          "output_type": "execute_result",
          "data": {
            "text/html": [
              "<div>\n",
              "<style scoped>\n",
              "    .dataframe tbody tr th:only-of-type {\n",
              "        vertical-align: middle;\n",
              "    }\n",
              "\n",
              "    .dataframe tbody tr th {\n",
              "        vertical-align: top;\n",
              "    }\n",
              "\n",
              "    .dataframe thead th {\n",
              "        text-align: right;\n",
              "    }\n",
              "</style>\n",
              "<table border=\"1\" class=\"dataframe\">\n",
              "  <thead>\n",
              "    <tr style=\"text-align: right;\">\n",
              "      <th></th>\n",
              "      <th>Time</th>\n",
              "      <th>V1</th>\n",
              "      <th>V2</th>\n",
              "      <th>V3</th>\n",
              "      <th>V4</th>\n",
              "      <th>V5</th>\n",
              "      <th>V6</th>\n",
              "      <th>V7</th>\n",
              "      <th>V8</th>\n",
              "      <th>V9</th>\n",
              "      <th>V10</th>\n",
              "      <th>V11</th>\n",
              "      <th>V12</th>\n",
              "      <th>V13</th>\n",
              "      <th>V14</th>\n",
              "      <th>V15</th>\n",
              "      <th>V16</th>\n",
              "      <th>V17</th>\n",
              "      <th>V18</th>\n",
              "      <th>V19</th>\n",
              "      <th>V20</th>\n",
              "      <th>V21</th>\n",
              "      <th>V22</th>\n",
              "      <th>V23</th>\n",
              "      <th>V24</th>\n",
              "      <th>V25</th>\n",
              "      <th>V26</th>\n",
              "      <th>V27</th>\n",
              "      <th>V28</th>\n",
              "      <th>Amount</th>\n",
              "      <th>Class</th>\n",
              "    </tr>\n",
              "  </thead>\n",
              "  <tbody>\n",
              "    <tr>\n",
              "      <th>237724</th>\n",
              "      <td>149366.0</td>\n",
              "      <td>2.105345</td>\n",
              "      <td>-0.131673</td>\n",
              "      <td>-1.656406</td>\n",
              "      <td>-0.066540</td>\n",
              "      <td>0.710193</td>\n",
              "      <td>0.151297</td>\n",
              "      <td>0.008382</td>\n",
              "      <td>-0.028435</td>\n",
              "      <td>0.327529</td>\n",
              "      <td>0.233118</td>\n",
              "      <td>-0.006885</td>\n",
              "      <td>0.784080</td>\n",
              "      <td>0.291653</td>\n",
              "      <td>0.372167</td>\n",
              "      <td>-0.548470</td>\n",
              "      <td>0.428442</td>\n",
              "      <td>-0.960924</td>\n",
              "      <td>0.001207</td>\n",
              "      <td>0.853151</td>\n",
              "      <td>-0.140766</td>\n",
              "      <td>-0.312979</td>\n",
              "      <td>-0.833859</td>\n",
              "      <td>0.228994</td>\n",
              "      <td>-0.348833</td>\n",
              "      <td>-0.162408</td>\n",
              "      <td>0.210748</td>\n",
              "      <td>-0.080313</td>\n",
              "      <td>-0.073748</td>\n",
              "      <td>1.98</td>\n",
              "      <td>0.0</td>\n",
              "    </tr>\n",
              "    <tr>\n",
              "      <th>65052</th>\n",
              "      <td>51411.0</td>\n",
              "      <td>-1.214709</td>\n",
              "      <td>1.414825</td>\n",
              "      <td>-0.285062</td>\n",
              "      <td>-1.776603</td>\n",
              "      <td>0.420260</td>\n",
              "      <td>0.452531</td>\n",
              "      <td>-0.155730</td>\n",
              "      <td>1.087302</td>\n",
              "      <td>-0.491037</td>\n",
              "      <td>-0.675458</td>\n",
              "      <td>-0.183740</td>\n",
              "      <td>1.061288</td>\n",
              "      <td>1.324637</td>\n",
              "      <td>0.507397</td>\n",
              "      <td>-0.111791</td>\n",
              "      <td>1.073082</td>\n",
              "      <td>-0.966376</td>\n",
              "      <td>0.095552</td>\n",
              "      <td>-0.175946</td>\n",
              "      <td>0.005911</td>\n",
              "      <td>-0.042716</td>\n",
              "      <td>-0.202039</td>\n",
              "      <td>-0.161071</td>\n",
              "      <td>-1.636244</td>\n",
              "      <td>0.050277</td>\n",
              "      <td>0.891793</td>\n",
              "      <td>0.058543</td>\n",
              "      <td>-0.005792</td>\n",
              "      <td>0.92</td>\n",
              "      <td>0.0</td>\n",
              "    </tr>\n",
              "    <tr>\n",
              "      <th>70497</th>\n",
              "      <td>53892.0</td>\n",
              "      <td>0.545471</td>\n",
              "      <td>-0.623443</td>\n",
              "      <td>-0.260729</td>\n",
              "      <td>1.456543</td>\n",
              "      <td>-0.176738</td>\n",
              "      <td>-0.423052</td>\n",
              "      <td>0.828627</td>\n",
              "      <td>-0.287433</td>\n",
              "      <td>-0.391535</td>\n",
              "      <td>-0.154925</td>\n",
              "      <td>-0.000041</td>\n",
              "      <td>0.806415</td>\n",
              "      <td>0.996161</td>\n",
              "      <td>0.379828</td>\n",
              "      <td>0.924527</td>\n",
              "      <td>-0.332951</td>\n",
              "      <td>-0.140916</td>\n",
              "      <td>-0.812978</td>\n",
              "      <td>-0.811010</td>\n",
              "      <td>0.580807</td>\n",
              "      <td>0.216769</td>\n",
              "      <td>-0.034845</td>\n",
              "      <td>-0.376397</td>\n",
              "      <td>0.126192</td>\n",
              "      <td>0.556201</td>\n",
              "      <td>-0.352783</td>\n",
              "      <td>-0.040073</td>\n",
              "      <td>0.075521</td>\n",
              "      <td>348.00</td>\n",
              "      <td>0.0</td>\n",
              "    </tr>\n",
              "    <tr>\n",
              "      <th>62546</th>\n",
              "      <td>50311.0</td>\n",
              "      <td>-4.385687</td>\n",
              "      <td>-2.135949</td>\n",
              "      <td>0.816318</td>\n",
              "      <td>2.213634</td>\n",
              "      <td>-2.158074</td>\n",
              "      <td>1.417995</td>\n",
              "      <td>0.879416</td>\n",
              "      <td>0.546345</td>\n",
              "      <td>1.168538</td>\n",
              "      <td>0.322079</td>\n",
              "      <td>-0.063568</td>\n",
              "      <td>0.386580</td>\n",
              "      <td>-0.963532</td>\n",
              "      <td>-0.525079</td>\n",
              "      <td>-1.048195</td>\n",
              "      <td>-0.157376</td>\n",
              "      <td>0.311671</td>\n",
              "      <td>0.884550</td>\n",
              "      <td>1.628739</td>\n",
              "      <td>-0.332296</td>\n",
              "      <td>-0.352909</td>\n",
              "      <td>0.565398</td>\n",
              "      <td>-0.149948</td>\n",
              "      <td>0.115918</td>\n",
              "      <td>0.852113</td>\n",
              "      <td>0.133031</td>\n",
              "      <td>0.950145</td>\n",
              "      <td>0.547172</td>\n",
              "      <td>552.35</td>\n",
              "      <td>0.0</td>\n",
              "    </tr>\n",
              "    <tr>\n",
              "      <th>271920</th>\n",
              "      <td>164811.0</td>\n",
              "      <td>-0.632350</td>\n",
              "      <td>-0.246712</td>\n",
              "      <td>0.103569</td>\n",
              "      <td>-1.604135</td>\n",
              "      <td>2.459825</td>\n",
              "      <td>4.008935</td>\n",
              "      <td>-0.371902</td>\n",
              "      <td>1.158833</td>\n",
              "      <td>0.210669</td>\n",
              "      <td>-0.811725</td>\n",
              "      <td>-0.471802</td>\n",
              "      <td>-0.082601</td>\n",
              "      <td>-0.187460</td>\n",
              "      <td>-0.122450</td>\n",
              "      <td>0.375965</td>\n",
              "      <td>0.193941</td>\n",
              "      <td>-0.633117</td>\n",
              "      <td>0.135689</td>\n",
              "      <td>-0.499769</td>\n",
              "      <td>0.159641</td>\n",
              "      <td>0.352086</td>\n",
              "      <td>0.867945</td>\n",
              "      <td>-0.041969</td>\n",
              "      <td>0.762038</td>\n",
              "      <td>-0.273250</td>\n",
              "      <td>0.613024</td>\n",
              "      <td>0.117492</td>\n",
              "      <td>0.160334</td>\n",
              "      <td>59.90</td>\n",
              "      <td>0.0</td>\n",
              "    </tr>\n",
              "  </tbody>\n",
              "</table>\n",
              "</div>"
            ],
            "text/plain": [
              "            Time        V1        V2  ...       V28  Amount  Class\n",
              "237724  149366.0  2.105345 -0.131673  ... -0.073748    1.98    0.0\n",
              "65052    51411.0 -1.214709  1.414825  ... -0.005792    0.92    0.0\n",
              "70497    53892.0  0.545471 -0.623443  ...  0.075521  348.00    0.0\n",
              "62546    50311.0 -4.385687 -2.135949  ...  0.547172  552.35    0.0\n",
              "271920  164811.0 -0.632350 -0.246712  ...  0.160334   59.90    0.0\n",
              "\n",
              "[5 rows x 31 columns]"
            ]
          },
          "metadata": {
            "tags": []
          },
          "execution_count": 202
        }
      ]
    },
    {
      "cell_type": "code",
      "metadata": {
        "colab": {
          "base_uri": "https://localhost:8080/",
          "height": 224
        },
        "id": "4ciCBlzd5z-G",
        "outputId": "374367a5-45e6-4d90-8003-b3d463f443e4"
      },
      "source": [
        "new_dataset.tail()"
      ],
      "execution_count": 203,
      "outputs": [
        {
          "output_type": "execute_result",
          "data": {
            "text/html": [
              "<div>\n",
              "<style scoped>\n",
              "    .dataframe tbody tr th:only-of-type {\n",
              "        vertical-align: middle;\n",
              "    }\n",
              "\n",
              "    .dataframe tbody tr th {\n",
              "        vertical-align: top;\n",
              "    }\n",
              "\n",
              "    .dataframe thead th {\n",
              "        text-align: right;\n",
              "    }\n",
              "</style>\n",
              "<table border=\"1\" class=\"dataframe\">\n",
              "  <thead>\n",
              "    <tr style=\"text-align: right;\">\n",
              "      <th></th>\n",
              "      <th>Time</th>\n",
              "      <th>V1</th>\n",
              "      <th>V2</th>\n",
              "      <th>V3</th>\n",
              "      <th>V4</th>\n",
              "      <th>V5</th>\n",
              "      <th>V6</th>\n",
              "      <th>V7</th>\n",
              "      <th>V8</th>\n",
              "      <th>V9</th>\n",
              "      <th>V10</th>\n",
              "      <th>V11</th>\n",
              "      <th>V12</th>\n",
              "      <th>V13</th>\n",
              "      <th>V14</th>\n",
              "      <th>V15</th>\n",
              "      <th>V16</th>\n",
              "      <th>V17</th>\n",
              "      <th>V18</th>\n",
              "      <th>V19</th>\n",
              "      <th>V20</th>\n",
              "      <th>V21</th>\n",
              "      <th>V22</th>\n",
              "      <th>V23</th>\n",
              "      <th>V24</th>\n",
              "      <th>V25</th>\n",
              "      <th>V26</th>\n",
              "      <th>V27</th>\n",
              "      <th>V28</th>\n",
              "      <th>Amount</th>\n",
              "      <th>Class</th>\n",
              "    </tr>\n",
              "  </thead>\n",
              "  <tbody>\n",
              "    <tr>\n",
              "      <th>274382</th>\n",
              "      <td>165981.0</td>\n",
              "      <td>-5.766879</td>\n",
              "      <td>-8.402154</td>\n",
              "      <td>0.056543</td>\n",
              "      <td>6.950983</td>\n",
              "      <td>9.880564</td>\n",
              "      <td>-5.773192</td>\n",
              "      <td>-5.748879</td>\n",
              "      <td>0.721743</td>\n",
              "      <td>-1.076274</td>\n",
              "      <td>2.688670</td>\n",
              "      <td>-1.475145</td>\n",
              "      <td>-0.050468</td>\n",
              "      <td>0.113500</td>\n",
              "      <td>0.984344</td>\n",
              "      <td>0.363969</td>\n",
              "      <td>-0.674357</td>\n",
              "      <td>0.327464</td>\n",
              "      <td>0.091470</td>\n",
              "      <td>1.307941</td>\n",
              "      <td>2.493224</td>\n",
              "      <td>0.880395</td>\n",
              "      <td>-0.130436</td>\n",
              "      <td>2.241471</td>\n",
              "      <td>0.665346</td>\n",
              "      <td>-1.890041</td>\n",
              "      <td>-0.120803</td>\n",
              "      <td>0.073269</td>\n",
              "      <td>0.583799</td>\n",
              "      <td>0.00</td>\n",
              "      <td>1.0</td>\n",
              "    </tr>\n",
              "    <tr>\n",
              "      <th>274475</th>\n",
              "      <td>166028.0</td>\n",
              "      <td>-0.956390</td>\n",
              "      <td>2.361594</td>\n",
              "      <td>-3.171195</td>\n",
              "      <td>1.970759</td>\n",
              "      <td>0.474761</td>\n",
              "      <td>-1.902598</td>\n",
              "      <td>-0.055178</td>\n",
              "      <td>0.277831</td>\n",
              "      <td>-1.745854</td>\n",
              "      <td>-2.516628</td>\n",
              "      <td>0.874052</td>\n",
              "      <td>-2.513104</td>\n",
              "      <td>0.021575</td>\n",
              "      <td>-3.565119</td>\n",
              "      <td>0.461153</td>\n",
              "      <td>-2.015713</td>\n",
              "      <td>-1.731413</td>\n",
              "      <td>-0.465815</td>\n",
              "      <td>0.527620</td>\n",
              "      <td>0.190877</td>\n",
              "      <td>0.473211</td>\n",
              "      <td>0.719400</td>\n",
              "      <td>0.122458</td>\n",
              "      <td>-0.255650</td>\n",
              "      <td>-0.619259</td>\n",
              "      <td>-0.484280</td>\n",
              "      <td>0.683535</td>\n",
              "      <td>0.443299</td>\n",
              "      <td>39.90</td>\n",
              "      <td>1.0</td>\n",
              "    </tr>\n",
              "    <tr>\n",
              "      <th>275992</th>\n",
              "      <td>166831.0</td>\n",
              "      <td>-2.027135</td>\n",
              "      <td>-1.131890</td>\n",
              "      <td>-1.135194</td>\n",
              "      <td>1.086963</td>\n",
              "      <td>-0.010547</td>\n",
              "      <td>0.423797</td>\n",
              "      <td>3.790880</td>\n",
              "      <td>-1.155595</td>\n",
              "      <td>-0.063434</td>\n",
              "      <td>1.334414</td>\n",
              "      <td>1.032016</td>\n",
              "      <td>-0.722023</td>\n",
              "      <td>-1.533240</td>\n",
              "      <td>0.334119</td>\n",
              "      <td>0.297479</td>\n",
              "      <td>-0.429392</td>\n",
              "      <td>-0.824644</td>\n",
              "      <td>0.489668</td>\n",
              "      <td>0.873344</td>\n",
              "      <td>0.033804</td>\n",
              "      <td>-0.315105</td>\n",
              "      <td>0.575520</td>\n",
              "      <td>0.490842</td>\n",
              "      <td>0.756502</td>\n",
              "      <td>-0.142685</td>\n",
              "      <td>-0.602777</td>\n",
              "      <td>0.508712</td>\n",
              "      <td>-0.091646</td>\n",
              "      <td>634.30</td>\n",
              "      <td>1.0</td>\n",
              "    </tr>\n",
              "    <tr>\n",
              "      <th>276071</th>\n",
              "      <td>166883.0</td>\n",
              "      <td>2.091900</td>\n",
              "      <td>-0.757459</td>\n",
              "      <td>-1.192258</td>\n",
              "      <td>-0.755458</td>\n",
              "      <td>-0.620324</td>\n",
              "      <td>-0.322077</td>\n",
              "      <td>-1.082511</td>\n",
              "      <td>0.117200</td>\n",
              "      <td>-0.140927</td>\n",
              "      <td>0.249311</td>\n",
              "      <td>1.338318</td>\n",
              "      <td>-0.329759</td>\n",
              "      <td>-0.363591</td>\n",
              "      <td>-1.824839</td>\n",
              "      <td>-0.229679</td>\n",
              "      <td>1.842347</td>\n",
              "      <td>1.194212</td>\n",
              "      <td>0.037467</td>\n",
              "      <td>0.423099</td>\n",
              "      <td>0.037438</td>\n",
              "      <td>0.288253</td>\n",
              "      <td>0.831939</td>\n",
              "      <td>0.142007</td>\n",
              "      <td>0.592615</td>\n",
              "      <td>-0.196143</td>\n",
              "      <td>-0.136676</td>\n",
              "      <td>0.020182</td>\n",
              "      <td>-0.015470</td>\n",
              "      <td>19.95</td>\n",
              "      <td>1.0</td>\n",
              "    </tr>\n",
              "    <tr>\n",
              "      <th>276864</th>\n",
              "      <td>167338.0</td>\n",
              "      <td>-1.374424</td>\n",
              "      <td>2.793185</td>\n",
              "      <td>-4.346572</td>\n",
              "      <td>2.400731</td>\n",
              "      <td>-1.688433</td>\n",
              "      <td>0.111136</td>\n",
              "      <td>-0.922038</td>\n",
              "      <td>-2.149930</td>\n",
              "      <td>-2.027474</td>\n",
              "      <td>-4.390842</td>\n",
              "      <td>1.241958</td>\n",
              "      <td>-3.910522</td>\n",
              "      <td>-1.225636</td>\n",
              "      <td>-4.697997</td>\n",
              "      <td>0.676108</td>\n",
              "      <td>-2.077066</td>\n",
              "      <td>-2.683521</td>\n",
              "      <td>-0.525949</td>\n",
              "      <td>0.422342</td>\n",
              "      <td>0.650196</td>\n",
              "      <td>-0.870779</td>\n",
              "      <td>0.504849</td>\n",
              "      <td>0.137994</td>\n",
              "      <td>0.368275</td>\n",
              "      <td>0.103137</td>\n",
              "      <td>-0.414209</td>\n",
              "      <td>0.454982</td>\n",
              "      <td>0.096711</td>\n",
              "      <td>349.08</td>\n",
              "      <td>1.0</td>\n",
              "    </tr>\n",
              "  </tbody>\n",
              "</table>\n",
              "</div>"
            ],
            "text/plain": [
              "            Time        V1        V2  ...       V28  Amount  Class\n",
              "274382  165981.0 -5.766879 -8.402154  ...  0.583799    0.00    1.0\n",
              "274475  166028.0 -0.956390  2.361594  ...  0.443299   39.90    1.0\n",
              "275992  166831.0 -2.027135 -1.131890  ... -0.091646  634.30    1.0\n",
              "276071  166883.0  2.091900 -0.757459  ... -0.015470   19.95    1.0\n",
              "276864  167338.0 -1.374424  2.793185  ...  0.096711  349.08    1.0\n",
              "\n",
              "[5 rows x 31 columns]"
            ]
          },
          "metadata": {
            "tags": []
          },
          "execution_count": 203
        }
      ]
    },
    {
      "cell_type": "code",
      "metadata": {
        "colab": {
          "base_uri": "https://localhost:8080/"
        },
        "id": "Md12xone52WK",
        "outputId": "94569d06-cee3-4e87-f9eb-fb84a5c325a3"
      },
      "source": [
        "new_dataset['Class'].value_counts()"
      ],
      "execution_count": 204,
      "outputs": [
        {
          "output_type": "execute_result",
          "data": {
            "text/plain": [
              "1.0    487\n",
              "0.0    487\n",
              "Name: Class, dtype: int64"
            ]
          },
          "metadata": {
            "tags": []
          },
          "execution_count": 204
        }
      ]
    },
    {
      "cell_type": "code",
      "metadata": {
        "colab": {
          "base_uri": "https://localhost:8080/",
          "height": 162
        },
        "id": "dMhiS6g454Bn",
        "outputId": "59b0608d-34f3-4304-ab96-0b63e48fcc72"
      },
      "source": [
        "new_dataset.groupby('Class').mean()"
      ],
      "execution_count": 205,
      "outputs": [
        {
          "output_type": "execute_result",
          "data": {
            "text/html": [
              "<div>\n",
              "<style scoped>\n",
              "    .dataframe tbody tr th:only-of-type {\n",
              "        vertical-align: middle;\n",
              "    }\n",
              "\n",
              "    .dataframe tbody tr th {\n",
              "        vertical-align: top;\n",
              "    }\n",
              "\n",
              "    .dataframe thead th {\n",
              "        text-align: right;\n",
              "    }\n",
              "</style>\n",
              "<table border=\"1\" class=\"dataframe\">\n",
              "  <thead>\n",
              "    <tr style=\"text-align: right;\">\n",
              "      <th></th>\n",
              "      <th>Time</th>\n",
              "      <th>V1</th>\n",
              "      <th>V2</th>\n",
              "      <th>V3</th>\n",
              "      <th>V4</th>\n",
              "      <th>V5</th>\n",
              "      <th>V6</th>\n",
              "      <th>V7</th>\n",
              "      <th>V8</th>\n",
              "      <th>V9</th>\n",
              "      <th>V10</th>\n",
              "      <th>V11</th>\n",
              "      <th>V12</th>\n",
              "      <th>V13</th>\n",
              "      <th>V14</th>\n",
              "      <th>V15</th>\n",
              "      <th>V16</th>\n",
              "      <th>V17</th>\n",
              "      <th>V18</th>\n",
              "      <th>V19</th>\n",
              "      <th>V20</th>\n",
              "      <th>V21</th>\n",
              "      <th>V22</th>\n",
              "      <th>V23</th>\n",
              "      <th>V24</th>\n",
              "      <th>V25</th>\n",
              "      <th>V26</th>\n",
              "      <th>V27</th>\n",
              "      <th>V28</th>\n",
              "      <th>Amount</th>\n",
              "    </tr>\n",
              "    <tr>\n",
              "      <th>Class</th>\n",
              "      <th></th>\n",
              "      <th></th>\n",
              "      <th></th>\n",
              "      <th></th>\n",
              "      <th></th>\n",
              "      <th></th>\n",
              "      <th></th>\n",
              "      <th></th>\n",
              "      <th></th>\n",
              "      <th></th>\n",
              "      <th></th>\n",
              "      <th></th>\n",
              "      <th></th>\n",
              "      <th></th>\n",
              "      <th></th>\n",
              "      <th></th>\n",
              "      <th></th>\n",
              "      <th></th>\n",
              "      <th></th>\n",
              "      <th></th>\n",
              "      <th></th>\n",
              "      <th></th>\n",
              "      <th></th>\n",
              "      <th></th>\n",
              "      <th></th>\n",
              "      <th></th>\n",
              "      <th></th>\n",
              "      <th></th>\n",
              "      <th></th>\n",
              "      <th></th>\n",
              "    </tr>\n",
              "  </thead>\n",
              "  <tbody>\n",
              "    <tr>\n",
              "      <th>0.0</th>\n",
              "      <td>94319.127310</td>\n",
              "      <td>-0.053513</td>\n",
              "      <td>0.063105</td>\n",
              "      <td>0.038286</td>\n",
              "      <td>-0.029982</td>\n",
              "      <td>-0.007686</td>\n",
              "      <td>-0.009296</td>\n",
              "      <td>0.105886</td>\n",
              "      <td>-0.051579</td>\n",
              "      <td>0.018751</td>\n",
              "      <td>-0.009901</td>\n",
              "      <td>0.050376</td>\n",
              "      <td>-0.006932</td>\n",
              "      <td>0.030816</td>\n",
              "      <td>0.097845</td>\n",
              "      <td>-0.084252</td>\n",
              "      <td>0.022915</td>\n",
              "      <td>-0.03101</td>\n",
              "      <td>-0.012196</td>\n",
              "      <td>0.034826</td>\n",
              "      <td>-0.037058</td>\n",
              "      <td>-0.007412</td>\n",
              "      <td>-0.014381</td>\n",
              "      <td>0.002614</td>\n",
              "      <td>0.002303</td>\n",
              "      <td>-0.030732</td>\n",
              "      <td>0.043055</td>\n",
              "      <td>-0.007270</td>\n",
              "      <td>-0.000727</td>\n",
              "      <td>87.269363</td>\n",
              "    </tr>\n",
              "    <tr>\n",
              "      <th>1.0</th>\n",
              "      <td>79834.240246</td>\n",
              "      <td>-4.816122</td>\n",
              "      <td>3.652183</td>\n",
              "      <td>-7.065000</td>\n",
              "      <td>4.576639</td>\n",
              "      <td>-3.179607</td>\n",
              "      <td>-1.398985</td>\n",
              "      <td>-5.612526</td>\n",
              "      <td>0.570034</td>\n",
              "      <td>-2.597563</td>\n",
              "      <td>-5.697347</td>\n",
              "      <td>3.820310</td>\n",
              "      <td>-6.291644</td>\n",
              "      <td>-0.103899</td>\n",
              "      <td>-6.993408</td>\n",
              "      <td>-0.090565</td>\n",
              "      <td>-4.164614</td>\n",
              "      <td>-6.70022</td>\n",
              "      <td>-2.263639</td>\n",
              "      <td>0.683637</td>\n",
              "      <td>0.372003</td>\n",
              "      <td>0.716151</td>\n",
              "      <td>0.014237</td>\n",
              "      <td>-0.041043</td>\n",
              "      <td>-0.104202</td>\n",
              "      <td>0.041249</td>\n",
              "      <td>0.047424</td>\n",
              "      <td>0.168312</td>\n",
              "      <td>0.075910</td>\n",
              "      <td>121.913326</td>\n",
              "    </tr>\n",
              "  </tbody>\n",
              "</table>\n",
              "</div>"
            ],
            "text/plain": [
              "               Time        V1        V2  ...       V27       V28      Amount\n",
              "Class                                    ...                                \n",
              "0.0    94319.127310 -0.053513  0.063105  ... -0.007270 -0.000727   87.269363\n",
              "1.0    79834.240246 -4.816122  3.652183  ...  0.168312  0.075910  121.913326\n",
              "\n",
              "[2 rows x 30 columns]"
            ]
          },
          "metadata": {
            "tags": []
          },
          "execution_count": 205
        }
      ]
    },
    {
      "cell_type": "markdown",
      "metadata": {
        "id": "Zrq-GUU67PJG"
      },
      "source": [
        "## Data Preparation: feature engineering"
      ]
    },
    {
      "cell_type": "code",
      "metadata": {
        "id": "H9LO3WLo6HlS"
      },
      "source": [
        "X = new_dataset.drop(columns='Class', axis=1)\n",
        "Y = new_dataset['Class']"
      ],
      "execution_count": 206,
      "outputs": []
    },
    {
      "cell_type": "code",
      "metadata": {
        "colab": {
          "base_uri": "https://localhost:8080/"
        },
        "id": "wVX7PeRV7SYe",
        "outputId": "8f4e45dc-ec6f-46f8-96af-25384accbb14"
      },
      "source": [
        "print(X)"
      ],
      "execution_count": 207,
      "outputs": [
        {
          "output_type": "stream",
          "text": [
            "            Time        V1        V2  ...       V27       V28  Amount\n",
            "237724  149366.0  2.105345 -0.131673  ... -0.080313 -0.073748    1.98\n",
            "65052    51411.0 -1.214709  1.414825  ...  0.058543 -0.005792    0.92\n",
            "70497    53892.0  0.545471 -0.623443  ... -0.040073  0.075521  348.00\n",
            "62546    50311.0 -4.385687 -2.135949  ...  0.950145  0.547172  552.35\n",
            "271920  164811.0 -0.632350 -0.246712  ...  0.117492  0.160334   59.90\n",
            "...          ...       ...       ...  ...       ...       ...     ...\n",
            "274382  165981.0 -5.766879 -8.402154  ...  0.073269  0.583799    0.00\n",
            "274475  166028.0 -0.956390  2.361594  ...  0.683535  0.443299   39.90\n",
            "275992  166831.0 -2.027135 -1.131890  ...  0.508712 -0.091646  634.30\n",
            "276071  166883.0  2.091900 -0.757459  ...  0.020182 -0.015470   19.95\n",
            "276864  167338.0 -1.374424  2.793185  ...  0.454982  0.096711  349.08\n",
            "\n",
            "[974 rows x 30 columns]\n"
          ],
          "name": "stdout"
        }
      ]
    },
    {
      "cell_type": "code",
      "metadata": {
        "colab": {
          "base_uri": "https://localhost:8080/"
        },
        "id": "aXkztJ4n7Uc-",
        "outputId": "2a853851-a7a1-406a-f101-d45f58d2d847"
      },
      "source": [
        "print(Y)"
      ],
      "execution_count": 208,
      "outputs": [
        {
          "output_type": "stream",
          "text": [
            "237724    0.0\n",
            "65052     0.0\n",
            "70497     0.0\n",
            "62546     0.0\n",
            "271920    0.0\n",
            "         ... \n",
            "274382    1.0\n",
            "274475    1.0\n",
            "275992    1.0\n",
            "276071    1.0\n",
            "276864    1.0\n",
            "Name: Class, Length: 974, dtype: float64\n"
          ],
          "name": "stdout"
        }
      ]
    },
    {
      "cell_type": "code",
      "metadata": {
        "id": "YRarJNUm7WcW"
      },
      "source": [
        "# split into train and test\n",
        "from sklearn.model_selection import train_test_split\n",
        "X_train, X_test, Y_train, Y_test = train_test_split(X, Y, test_size=0.2, stratify=Y, random_state=2)"
      ],
      "execution_count": 209,
      "outputs": []
    },
    {
      "cell_type": "code",
      "metadata": {
        "colab": {
          "base_uri": "https://localhost:8080/"
        },
        "id": "vvXsQLKB7dqW",
        "outputId": "0e2da58a-4396-4434-a311-bc64f711af99"
      },
      "source": [
        "print(X.shape, X_train.shape, X_test.shape)"
      ],
      "execution_count": 210,
      "outputs": [
        {
          "output_type": "stream",
          "text": [
            "(974, 30) (779, 30) (195, 30)\n"
          ],
          "name": "stdout"
        }
      ]
    },
    {
      "cell_type": "markdown",
      "metadata": {
        "id": "aowgjqbeZ7d1"
      },
      "source": [
        "## Model Training"
      ]
    },
    {
      "cell_type": "markdown",
      "metadata": {
        "id": "kBgfTF3eO01T"
      },
      "source": [
        "Since our dependent variable is a Binary classification type so we can use Logistic Regression or k-Nearest Neighbors, Decision Trees, Support Vector Machine, Naive Bayes."
      ]
    },
    {
      "cell_type": "code",
      "metadata": {
        "id": "4XBqD9fBTUi2"
      },
      "source": [
        "# Model with all features\n",
        "from sklearn.linear_model import LogisticRegression\n",
        "\n",
        "# training the Logistic Regression Model with Training Data\n",
        "model=LogisticRegression()\n",
        "model.fit(X_train, Y_train)\n",
        "\n",
        "X_train_prediction = model.predict(X_train)"
      ],
      "execution_count": 211,
      "outputs": []
    },
    {
      "cell_type": "code",
      "metadata": {
        "colab": {
          "base_uri": "https://localhost:8080/"
        },
        "id": "mW-8uIFvWI-U",
        "outputId": "4132960b-2aad-4709-fe3a-ca91bef23d70"
      },
      "source": [
        "# Logistic Regression (LR)\n",
        "# for Logistic Regression algorithm\n",
        "# Training\n",
        "from sklearn.linear_model import LogisticRegression\n",
        "classifierLR = LogisticRegression()\n",
        "classifierLR.fit(X_train,Y_train)\n",
        "y_pred_train= classifierLR.predict(X_train)\n",
        "\n",
        "# Evaluating the Algorithm on training data\n",
        "from sklearn.metrics import classification_report, confusion_matrix, accuracy_score  \n",
        "print(confusion_matrix(Y_train, y_pred_train))  \n",
        "print(classification_report(Y_train, y_pred_train))\n",
        "print(accuracy_score(Y_train,y_pred_train))"
      ],
      "execution_count": 212,
      "outputs": [
        {
          "output_type": "stream",
          "text": [
            "[[377  12]\n",
            " [ 32 358]]\n",
            "              precision    recall  f1-score   support\n",
            "\n",
            "         0.0       0.92      0.97      0.94       389\n",
            "         1.0       0.97      0.92      0.94       390\n",
            "\n",
            "    accuracy                           0.94       779\n",
            "   macro avg       0.94      0.94      0.94       779\n",
            "weighted avg       0.94      0.94      0.94       779\n",
            "\n",
            "0.9435173299101413\n"
          ],
          "name": "stdout"
        }
      ]
    },
    {
      "cell_type": "code",
      "metadata": {
        "colab": {
          "base_uri": "https://localhost:8080/"
        },
        "id": "ohxpJYRrWsIo",
        "outputId": "63d7b5aa-4bec-40b4-c2cc-edd603180c95"
      },
      "source": [
        "# Logistic Regression (LR)\n",
        "# for Logistic Regression algorithm\n",
        "# Training\n",
        "from sklearn.linear_model import LogisticRegression\n",
        "classifierLR = LogisticRegression()\n",
        "classifierLR.fit(X_train,Y_train)\n",
        "y_pred_test= classifierLR.predict(X_test)\n",
        "\n",
        "# Evaluating the Algorithm on test data\n",
        "from sklearn.metrics import classification_report, confusion_matrix, accuracy_score  \n",
        "print(confusion_matrix(Y_test, y_pred_test))  \n",
        "print(classification_report(Y_test, y_pred_test))\n",
        "print(accuracy_score(Y_test,y_pred_test))"
      ],
      "execution_count": 213,
      "outputs": [
        {
          "output_type": "stream",
          "text": [
            "[[92  6]\n",
            " [ 8 89]]\n",
            "              precision    recall  f1-score   support\n",
            "\n",
            "         0.0       0.92      0.94      0.93        98\n",
            "         1.0       0.94      0.92      0.93        97\n",
            "\n",
            "    accuracy                           0.93       195\n",
            "   macro avg       0.93      0.93      0.93       195\n",
            "weighted avg       0.93      0.93      0.93       195\n",
            "\n",
            "0.9282051282051282\n"
          ],
          "name": "stdout"
        }
      ]
    },
    {
      "cell_type": "code",
      "metadata": {
        "colab": {
          "base_uri": "https://localhost:8080/"
        },
        "id": "Q8MRDQJDVkZn",
        "outputId": "a9223b34-161c-41d2-c0d5-46970e175b03"
      },
      "source": [
        "# Decision Tree\n",
        "#for using Decision Tree Algoithm\n",
        "# Training\n",
        "from sklearn.tree import DecisionTreeClassifier\n",
        "classifierDT = DecisionTreeClassifier()\n",
        "classifierDT.fit(X_train,Y_train)\n",
        "y_pred_train1= classifierDT.predict(X_train)\n",
        "\n",
        "# Evaluating the Algorithm on training data\n",
        "from sklearn.metrics import classification_report, confusion_matrix, accuracy_score  \n",
        "print(confusion_matrix(Y_train, y_pred_train1))  \n",
        "print(classification_report(Y_train, y_pred_train1))\n",
        "print(accuracy_score(Y_train,y_pred_train1))"
      ],
      "execution_count": 214,
      "outputs": [
        {
          "output_type": "stream",
          "text": [
            "[[389   0]\n",
            " [  0 390]]\n",
            "              precision    recall  f1-score   support\n",
            "\n",
            "         0.0       1.00      1.00      1.00       389\n",
            "         1.0       1.00      1.00      1.00       390\n",
            "\n",
            "    accuracy                           1.00       779\n",
            "   macro avg       1.00      1.00      1.00       779\n",
            "weighted avg       1.00      1.00      1.00       779\n",
            "\n",
            "1.0\n"
          ],
          "name": "stdout"
        }
      ]
    },
    {
      "cell_type": "code",
      "metadata": {
        "colab": {
          "base_uri": "https://localhost:8080/"
        },
        "id": "37kwbNTOYFNZ",
        "outputId": "22a7b72a-fe39-4e5f-fb31-1696b776d7d6"
      },
      "source": [
        "# Decision Tree\n",
        "#for using Decision Tree Algoithm\n",
        "# Training\n",
        "from sklearn.tree import DecisionTreeClassifier\n",
        "classifierDT = DecisionTreeClassifier()\n",
        "classifierDT.fit(X_train,Y_train)\n",
        "y_pred_test1= classifierDT.predict(X_test)\n",
        "\n",
        "# Evaluating the Algorithm on test data\n",
        "from sklearn.metrics import classification_report, confusion_matrix, accuracy_score  \n",
        "print(confusion_matrix(Y_test, y_pred_test1))  \n",
        "print(classification_report(Y_test, y_pred_test1))\n",
        "print(accuracy_score(Y_test,y_pred_test1))"
      ],
      "execution_count": 215,
      "outputs": [
        {
          "output_type": "stream",
          "text": [
            "[[90  8]\n",
            " [10 87]]\n",
            "              precision    recall  f1-score   support\n",
            "\n",
            "         0.0       0.90      0.92      0.91        98\n",
            "         1.0       0.92      0.90      0.91        97\n",
            "\n",
            "    accuracy                           0.91       195\n",
            "   macro avg       0.91      0.91      0.91       195\n",
            "weighted avg       0.91      0.91      0.91       195\n",
            "\n",
            "0.9076923076923077\n"
          ],
          "name": "stdout"
        }
      ]
    },
    {
      "cell_type": "code",
      "metadata": {
        "colab": {
          "base_uri": "https://localhost:8080/"
        },
        "id": "G9xUOhcFYgL5",
        "outputId": "c42a4371-2ff1-481b-b561-cebc460f739e"
      },
      "source": [
        "# Support Vector Machine (SVM)\n",
        "#for Support Vector Machine (SVM) Algorithm\n",
        "# Training\n",
        "from sklearn import svm\n",
        "classifierSVM = svm.SVC()\n",
        "classifierSVM.fit(X_train,Y_train)\n",
        "y_pred_train2 = classifierSVM.predict(X_train)\n",
        "\n",
        "# Evaluating the Algorithm on training data\n",
        "from sklearn.metrics import classification_report, confusion_matrix, accuracy_score  \n",
        "print(confusion_matrix(Y_train, y_pred_train2))  \n",
        "print(classification_report(Y_train, y_pred_train2))\n",
        "print(accuracy_score(Y_train,y_pred_train2))"
      ],
      "execution_count": 216,
      "outputs": [
        {
          "output_type": "stream",
          "text": [
            "[[201 188]\n",
            " [179 211]]\n",
            "              precision    recall  f1-score   support\n",
            "\n",
            "         0.0       0.53      0.52      0.52       389\n",
            "         1.0       0.53      0.54      0.53       390\n",
            "\n",
            "    accuracy                           0.53       779\n",
            "   macro avg       0.53      0.53      0.53       779\n",
            "weighted avg       0.53      0.53      0.53       779\n",
            "\n",
            "0.5288831835686778\n"
          ],
          "name": "stdout"
        }
      ]
    },
    {
      "cell_type": "code",
      "metadata": {
        "colab": {
          "base_uri": "https://localhost:8080/"
        },
        "id": "w6bFRDtXZHeo",
        "outputId": "582d00c3-bcd2-494c-fa72-e7e6b1a60baf"
      },
      "source": [
        "# Support Vector Machine (SVM)\n",
        "#for Support Vector Machine (SVM) Algorithm\n",
        "# Training\n",
        "from sklearn import svm\n",
        "classifierSVM = svm.SVC()\n",
        "classifierSVM.fit(X_train,Y_train)\n",
        "y_pred_test2= classifierSVM.predict(X_test)\n",
        "\n",
        "# Evaluating the Algorithm on test data\n",
        "from sklearn.metrics import classification_report, confusion_matrix, accuracy_score  \n",
        "print(confusion_matrix(Y_test, y_pred_test2))  \n",
        "print(classification_report(Y_test, y_pred_test2))\n",
        "print(accuracy_score(Y_test,y_pred_test2))"
      ],
      "execution_count": 217,
      "outputs": [
        {
          "output_type": "stream",
          "text": [
            "[[52 46]\n",
            " [44 53]]\n",
            "              precision    recall  f1-score   support\n",
            "\n",
            "         0.0       0.54      0.53      0.54        98\n",
            "         1.0       0.54      0.55      0.54        97\n",
            "\n",
            "    accuracy                           0.54       195\n",
            "   macro avg       0.54      0.54      0.54       195\n",
            "weighted avg       0.54      0.54      0.54       195\n",
            "\n",
            "0.5384615384615384\n"
          ],
          "name": "stdout"
        }
      ]
    },
    {
      "cell_type": "code",
      "metadata": {
        "colab": {
          "base_uri": "https://localhost:8080/"
        },
        "id": "9_kgQqssZcHY",
        "outputId": "c91579b3-675e-4d17-a336-2d181a6af8f8"
      },
      "source": [
        "# K-Nearest Neighbors (KNN)\n",
        "#for using K-Nearest Neighbors Algoithm\n",
        "# Training\n",
        "from sklearn.neighbors import KNeighborsClassifier\n",
        "classifierKNN = KNeighborsClassifier(n_neighbors=5)\n",
        "classifierKNN.fit(X_train,Y_train)\n",
        "y_pred_train3 = classifierKNN.predict(X_train)\n",
        "\n",
        "# Evaluating the Algorithm on training data\n",
        "from sklearn.metrics import classification_report, confusion_matrix, accuracy_score  \n",
        "print(confusion_matrix(Y_train, y_pred_train3))  \n",
        "print(classification_report(Y_train, y_pred_train3))\n",
        "print(accuracy_score(Y_train,y_pred_train3))"
      ],
      "execution_count": 218,
      "outputs": [
        {
          "output_type": "stream",
          "text": [
            "[[302  87]\n",
            " [106 284]]\n",
            "              precision    recall  f1-score   support\n",
            "\n",
            "         0.0       0.74      0.78      0.76       389\n",
            "         1.0       0.77      0.73      0.75       390\n",
            "\n",
            "    accuracy                           0.75       779\n",
            "   macro avg       0.75      0.75      0.75       779\n",
            "weighted avg       0.75      0.75      0.75       779\n",
            "\n",
            "0.7522464698331194\n"
          ],
          "name": "stdout"
        }
      ]
    },
    {
      "cell_type": "code",
      "metadata": {
        "colab": {
          "base_uri": "https://localhost:8080/"
        },
        "id": "qDhlJ5WBZzCB",
        "outputId": "70b149c4-6664-4122-901b-c15254415a20"
      },
      "source": [
        "# K-Nearest Neighbors (KNN)\n",
        "#for using K-Nearest Neighbors Algoithm\n",
        "# Training\n",
        "from sklearn.neighbors import KNeighborsClassifier\n",
        "classifierKNN = KNeighborsClassifier(n_neighbors=5)\n",
        "classifierKNN.fit(X_train,Y_train)\n",
        "y_pred_test3= classifierKNN.predict(X_test)\n",
        "\n",
        "# Evaluating the Algorithm on test data\n",
        "from sklearn.metrics import classification_report, confusion_matrix, accuracy_score  \n",
        "print(confusion_matrix(Y_test, y_pred_test3))  \n",
        "print(classification_report(Y_test, y_pred_test3))\n",
        "print(accuracy_score(Y_test,y_pred_test3))"
      ],
      "execution_count": 219,
      "outputs": [
        {
          "output_type": "stream",
          "text": [
            "[[55 43]\n",
            " [39 58]]\n",
            "              precision    recall  f1-score   support\n",
            "\n",
            "         0.0       0.59      0.56      0.57        98\n",
            "         1.0       0.57      0.60      0.59        97\n",
            "\n",
            "    accuracy                           0.58       195\n",
            "   macro avg       0.58      0.58      0.58       195\n",
            "weighted avg       0.58      0.58      0.58       195\n",
            "\n",
            "0.5794871794871795\n"
          ],
          "name": "stdout"
        }
      ]
    },
    {
      "cell_type": "code",
      "metadata": {
        "id": "7iFzlkCnZ7fF"
      },
      "source": [
        ""
      ],
      "execution_count": 219,
      "outputs": []
    }
  ]
}